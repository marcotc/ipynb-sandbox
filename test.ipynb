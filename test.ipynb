gem 'nyaplot', '0.1.5'
require 'nyaplot'
require 'mapnya'

raw_df = Nyaplot::Countries.df



hash = [:name, :lat, :lng, :area].map{|label| {label => raw_df.column(label).to_a}}.reduce({}){|memo, hash| memo.merge(hash)}
df = Nyaplot::DataFrame.new(hash)
